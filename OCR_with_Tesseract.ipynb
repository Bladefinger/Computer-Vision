{
  "nbformat": 4,
  "nbformat_minor": 0,
  "metadata": {
    "colab": {
      "private_outputs": true,
      "provenance": [],
      "authorship_tag": "ABX9TyMEU21nJdBB6FY4ZAgNzXea",
      "include_colab_link": true
    },
    "kernelspec": {
      "name": "python3",
      "display_name": "Python 3"
    },
    "language_info": {
      "name": "python"
    },
    "gpuClass": "standard"
  },
  "cells": [
    {
      "cell_type": "markdown",
      "metadata": {
        "id": "view-in-github",
        "colab_type": "text"
      },
      "source": [
        "<a href=\"https://colab.research.google.com/github/Bladefinger/Computer-Vision/blob/main/OCR_with_Tesseract.ipynb\" target=\"_parent\"><img src=\"https://colab.research.google.com/assets/colab-badge.svg\" alt=\"Open In Colab\"/></a>"
      ]
    },
    {
      "cell_type": "markdown",
      "source": [
        "# **Optical Character Recognition (OCR)**\n",
        "\n",
        "\n",
        "                            OCR\n",
        "                             |\n",
        "                      ------- ---------\n",
        "                      |               | \n",
        "                Online Text      Offline Text\n",
        "                                      |\n",
        "                               ------- ---------\n",
        "                               |               | \n",
        "                            Typed Text      Handwritten Text\n",
        "\n",
        "Dans ce notebook ous allons commencer par faire un premier cas d'utilisations de la librairie pour l'extraction des caractères saisies (cas d'une facture imprimé). Dans un second second temps, nous allons essayer d'extraire les informations manuscrites d'une image. Nous allons Terminer par présenter les avantages et les limites de Tesseract. \n",
        "\n",
        "\n",
        "---\n",
        "\n",
        "#####**Brell SANWOUO**\n",
        "\n",
        "\n"
      ],
      "metadata": {
        "id": "YLknsHAOkLvO"
      }
    },
    {
      "cell_type": "code",
      "source": [
        "!pip install asrtoolkit"
      ],
      "metadata": {
        "id": "dsOZNRjanjJ6"
      },
      "execution_count": null,
      "outputs": []
    },
    {
      "cell_type": "code",
      "source": [
        "!pip install fuzzywuzzy"
      ],
      "metadata": {
        "id": "BUd8v7GnoP1g"
      },
      "execution_count": null,
      "outputs": []
    },
    {
      "cell_type": "code",
      "source": [
        "!sudo apt install tesseract-ocr"
      ],
      "metadata": {
        "id": "ypz71L2eoi0z"
      },
      "execution_count": null,
      "outputs": []
    },
    {
      "cell_type": "code",
      "source": [
        "!pip install pytesseract"
      ],
      "metadata": {
        "id": "ae67xDoYokv8"
      },
      "execution_count": null,
      "outputs": []
    },
    {
      "cell_type": "code",
      "source": [
        "!pip install google-cloud-vision"
      ],
      "metadata": {
        "id": "BUUy9oMdt8Uj"
      },
      "execution_count": null,
      "outputs": []
    },
    {
      "cell_type": "code",
      "source": [
        "!pip install python-dotenv"
      ],
      "metadata": {
        "id": "csB0cR_cw8lZ"
      },
      "execution_count": null,
      "outputs": []
    },
    {
      "cell_type": "code",
      "source": [
        "!pip install deskew"
      ],
      "metadata": {
        "id": "OVsOsLVF96nz"
      },
      "execution_count": null,
      "outputs": []
    },
    {
      "cell_type": "code",
      "source": [
        "import asrtoolkit\n",
        "from asrtoolkit import wer, cer\n",
        "import cv2\n",
        "import io\n",
        "import json\n",
        "import numpy as np\n",
        "from fuzzywuzzy import fuzz\n",
        "from fuzzywuzzy import process\n",
        "import numpy as np\n",
        "from PIL import Image\n",
        "import pytesseract\n",
        "import sys\n",
        "from skimage import io as ioski\n",
        "from skimage.color import rgb2gray\n",
        "from skimage.transform import rotate, resize\n",
        "import os\n",
        "from deskew import determine_skew\n",
        "from google.cloud import vision\n",
        "from google.cloud.vision_v1 import types\n",
        "from dotenv import load_dotenv, find_dotenv\n",
        "load_dotenv()"
      ],
      "metadata": {
        "id": "00PKyqnxkNIm"
      },
      "execution_count": null,
      "outputs": []
    },
    {
      "cell_type": "markdown",
      "source": [
        "####**Cas 1**: extration des **informations** d'une **facture**"
      ],
      "metadata": {
        "id": "4E-ceCWi3HxB"
      }
    },
    {
      "cell_type": "code",
      "source": [
        "sample_image =\"/content/test_images.png\"\n",
        "output_processed = \"/content/\" + \"output_processed.png\"\n",
        "output_deskewed = \"/content/\" + \"output_deskewed.png\"\n",
        "output_no_deskewed = \"/content/\" + \"output_no_deskewed.png\""
      ],
      "metadata": {
        "id": "-T5GWibcB5sG"
      },
      "execution_count": null,
      "outputs": []
    },
    {
      "cell_type": "code",
      "source": [
        "outputimage = Image.open('/content/Facture.jpg')\n",
        "print(outputimage)\n",
        "outputimage"
      ],
      "metadata": {
        "id": "83lDfbNcnKXW"
      },
      "execution_count": null,
      "outputs": []
    },
    {
      "cell_type": "code",
      "source": [
        "print(pytesseract.image_to_string(outputimage))"
      ],
      "metadata": {
        "id": "pa5He64S3tsY"
      },
      "execution_count": null,
      "outputs": []
    },
    {
      "cell_type": "code",
      "source": [
        "def RemoveEmptyLines(entree):\n",
        "    tab = entree.strip()\n",
        "    tableausansvide = [ x for x in tab.splitlines() if x!='' ]\n",
        "    res = ''\n",
        "    for i in range(0, len(tableausansvide)):\n",
        "        res = res + tableausansvide[i] + '\\n'\n",
        "    return res\n",
        " \n",
        "def getTextBetween(mainString, startWord, endWord):\n",
        "    start = mainString.find(startWord) + len(startWord)\n",
        "    end = mainString.find(endWord)\n",
        "    return RemoveEmptyLines(mainString[start:end])\n",
        " \n",
        "def getPosElement(po):\n",
        "    element = {}\n",
        "    element['quantite'] = po[0:po.find (' ')].strip()\n",
        "    po = po[po.find (' '):len(po)]\n",
        "    element['prixtotht'] = po[po.rfind (' '):len(po)].strip()\n",
        "    po = po[0:po.rfind (' ')]\n",
        "    element['prixunitht'] = po[po.rfind (' '):len(po)].strip()\n",
        "    po = po[0:po.rfind (' ')]\n",
        "    element['decription'] = po.strip()\n",
        "    return element"
      ],
      "metadata": {
        "id": "hSOiotwS5rXI"
      },
      "execution_count": null,
      "outputs": []
    },
    {
      "cell_type": "code",
      "source": [
        "output = {}    \n",
        "resultat = pytesseract.image_to_string(outputimage)\n",
        "output[\"Adresse\"] = getTextBetween(resultat, 'www.blueprism.com/fr', 'Référence').strip()\n",
        "output[\"Reference\"] = getTextBetween(resultat, 'Référence: ', 'Date: ').strip()\n",
        "output[\"DateFacture\"] = getTextBetween(resultat, 'Date: ', 'Client: ').strip()\n",
        "output[\"CodeClient\"] = getTextBetween(resultat, 'Client: ', 'Intitulé: ').strip()\n",
        " \n",
        "# Récupération des lignes de PO\n",
        "pos = getTextBetween(resultat, 'Prix total HT', 'Total HT ')\n",
        "tabPOs = pos.splitlines()\n",
        "print ('Nombre de PO: ' + str(len(tabPOs)))\n",
        "output[\"NbPo\"] = len(tabPOs)\n",
        "pos = []\n",
        "for i in range(0, len(tabPOs)):\n",
        "    pos.append(getPosElement(tabPOs[i]))\n",
        "output['po'] = pos\n",
        "output[\"totalht\"] = getTextBetween(resultat, 'Total HT ', 'TVA (20%) ').strip()\n",
        "output[\"tva\"] = getTextBetween(resultat, 'TVA (20%) ', 'Total TTC (en euros) ').strip()\n",
        "output[\"total\"] = getTextBetween(resultat, 'Total TTC (en euros) ', 'En votre aimable réglement,').strip()"
      ],
      "metadata": {
        "id": "GMYlgZ2u6wzw"
      },
      "execution_count": null,
      "outputs": []
    },
    {
      "cell_type": "code",
      "source": [
        "print (output)"
      ],
      "metadata": {
        "id": "zlEvv-Gb66zT"
      },
      "execution_count": null,
      "outputs": []
    },
    {
      "cell_type": "code",
      "source": [
        "outputimage = Image.open('/content/test_images.png')\n",
        "print(outputimage)\n",
        "outputimage"
      ],
      "metadata": {
        "id": "BCkUjZux7giG"
      },
      "execution_count": null,
      "outputs": []
    },
    {
      "cell_type": "code",
      "source": [
        "image = ioski.imread('/content/test_images.png')\n",
        "grayscale = rgb2gray(image)\n",
        "angle = determine_skew(grayscale)\n",
        "print(angle)\n",
        "rotated = rotate(image, angle, resize=True) * 255\n",
        "print(type(rotated))\n",
        "ioski.imsave(\"output_deskewed.jpg\", rotated.astype(np.uint8))"
      ],
      "metadata": {
        "id": "1hSc9MjF2PPT"
      },
      "execution_count": null,
      "outputs": []
    },
    {
      "cell_type": "code",
      "source": [
        "Image.open(output_deskewed)"
      ],
      "metadata": {
        "id": "V5rea19S-Qeu"
      },
      "execution_count": null,
      "outputs": []
    },
    {
      "cell_type": "code",
      "source": [
        "def pre_process_image(image):\n",
        "    \"\"\"Cette fonction va pré-traiter une image avec CV2 & deskew\"\"\"\n",
        "    img = cv2.imread(image)\n",
        "    img = cv2.resize(img, None, fx=.3, fy=.3) #redimensionner en utilisant les pourcentages\n",
        "    img = cv2.cvtColor(img, cv2.COLOR_BGR2RGB) #changer la couleur de l'imager de BGR à RGB\n",
        "    img = cv2.cvtColor(img, cv2.COLOR_BGR2GRAY) #formater l'image en niveau de gris\n",
        "    img = cv2.adaptiveThreshold(img, 255, cv2.ADAPTIVE_THRESH_GAUSSIAN_C, cv2.THRESH_BINARY, 5, 11) # retirer l'arrière plan\n",
        "    return img"
      ],
      "metadata": {
        "id": "2DYSAgZ3_R1K"
      },
      "execution_count": null,
      "outputs": []
    },
    {
      "cell_type": "code",
      "source": [
        "#Fonction pour redresser l'image\n",
        "def img_process(image):\n",
        "    \"\"\"This function will deskew\"\"\"\n",
        "    cv2output = io.imread(image)\n",
        "    angle = determine_skew(cv2output)\n",
        "    print(\"angle rotation of image\",angle)\n",
        "    rotated = rotate(cv2output, angle, resize=True) * 255\n",
        "    return rotated"
      ],
      "metadata": {
        "id": "0FvHPEwx_SvF"
      },
      "execution_count": null,
      "outputs": []
    },
    {
      "cell_type": "code",
      "source": [
        "# Utilisation de la fonction pre_process_image  pour sauvegareder l'image prétraiter\n",
        "processed_img = pre_process_image(output_deskewed)\n",
        "cv2.imwrite(\"output_processed.png\",processed_img)\n",
        "processed_img = pre_process_image(sample_image)\n",
        "cv2.imwrite(\"output_no_deskewing.png\",processed_img)"
      ],
      "metadata": {
        "id": "xSf_8r1p_Urs"
      },
      "execution_count": null,
      "outputs": []
    },
    {
      "cell_type": "code",
      "source": [
        "sample_image =\"/content/test_images.png\"\n",
        "output_processed = \"/content/\" + \"output_processed.png\"\n",
        "output_deskewed = \"/content/\" + \"output_deskewed.png\"\n",
        "output_no_deskewed = \"/content/\" + \"output_no_deskewed.png\"\n"
      ],
      "metadata": {
        "id": "ftuXYs7HBF0x"
      },
      "execution_count": null,
      "outputs": []
    },
    {
      "cell_type": "code",
      "source": [
        "phrase_corect = \"Delicious substitute for tuna in your favorite recipes. Perfect for creative hors d'oeuvres and snacks. Great as a salad topper\""
      ],
      "metadata": {
        "id": "YSJHdnmC_Wso"
      },
      "execution_count": null,
      "outputs": []
    },
    {
      "cell_type": "code",
      "source": [
        "#pytesseract sans prétraitement\n",
        "hypothesis0 = pytesseract.image_to_string(sample_image)\n",
        "print(\"CER :\" cer(phrase_corect, hypothesis0))\n",
        "print(\"WER :\" wer(sample_image, hypothesis0))\n",
        "print(\"Taux :\" fuzz.ratio(phrase_corect, hypothesis0))\n",
        "print(hypothesis0)"
      ],
      "metadata": {
        "id": "Fg3AfxtK_Yp-"
      },
      "execution_count": null,
      "outputs": []
    },
    {
      "cell_type": "code",
      "source": [
        "#pytesseract avec l'image redréssé en niveau de gris\n",
        "hypothesis1 = pytesseract.image_to_string(output_deskewed)\n",
        "print(\"CER :\" cer(phrase_corect, hypothesis1))\n",
        "print(\"WER :\" wer(phrase_corect, hypothesis1))\n",
        "print(\"Taux :\" fuzz.ratio(phrase_corect, hypothesis1))\n",
        "print(hypothesis1)"
      ],
      "metadata": {
        "id": "khjp730b_amJ"
      },
      "execution_count": null,
      "outputs": []
    },
    {
      "cell_type": "code",
      "source": [
        "#pytesseract avec l'image en niveau de gris non redréssé\n",
        "hypothesis2 = pytesseract.image_to_string(output_no_deskewing)\n",
        "print(\"CER :\" cer(phrase_corect, hypothesis2))\n",
        "print(\"WER :\" wer(phrase_corect, hypothesis2))\n",
        "print(\"Taux :\" fuzz.ratio(phrase_corect, hypothesis2))\n",
        "print(hypothesis2)"
      ],
      "metadata": {
        "id": "xNb2LJym_cOR"
      },
      "execution_count": null,
      "outputs": []
    },
    {
      "cell_type": "code",
      "source": [
        "#pytesseract sur l'image prétraité en RGB redréssé\n",
        "hypothesis3 = pytesseract.image_to_string(output_processed)\n",
        "print(\"CER :\" cer(phrase_corect, hypothesis3))\n",
        "print(\"WER :\" wer(phrase_corect, hypothesis3))\n",
        "print(\"Taux :\" fuzz.ratio(phrase_corect, hypothesis3))\n",
        "print(hypothesis3)"
      ],
      "metadata": {
        "id": "tIJH5TNn_eCX"
      },
      "execution_count": null,
      "outputs": []
    },
    {
      "cell_type": "markdown",
      "source": [
        "\n",
        "#**Conclusion**\n",
        "EN conclusion, Tesseract permet bel et bien d'extraire des informations textuelles sur une image ou sur un pdf. mais tesseract n'est pas parfait il présente quelques limites.\n",
        "Voici quelques limitations de Tesseract :\n",
        "\n",
        "1. Malheureusement Tesseract n’est pas capable de reconnaître \n",
        "correctement l’écriture manuscrite.\n",
        "2. Tesseract ne fonctionne pas vraiment bien avec les images qui ont subit certaines modifications (arrière-plan complexe ou brouillé, lignes, occlusion partielle, déformation, etc.) voila pourquoi il faut faire du prétraitement sur des images avant d'extraire du texte.\n",
        "3. Il peut parfois renvoyer du charabia (faux positifs).\n",
        "Tesseract analyse dans l’ordre de lecture naturel des documents, ce qui n’est pas toujours la bonne méthode. Par exemple, il peut ne pas reconnaître qu’un document contient plusieurs colonnes et peut essayer de joindre le texte de ces colonnes comme une seule ligne.\n",
        "4. Il a du mal à interpréter des numérisations de mauvaise qualité.\n",
        "5. Il n’expose pas d’informations/métadonnées sur le texte (comme la police).\n"
      ],
      "metadata": {
        "id": "1VQzrJs8DDGq"
      }
    }
  ]
}